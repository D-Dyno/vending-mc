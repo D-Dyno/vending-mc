{
 "cells": [
  {
   "cell_type": "code",
   "execution_count": null,
   "id": "54778906-ad82-413e-b98b-9e4729895afb",
   "metadata": {},
   "outputs": [],
   "source": [
    "\n",
    "customer - can see product availabl/product price\n",
    "\n",
    "owner - require id/PW - can decide product price and increase/decrease qty.\n",
    "\n",
    "\n",
    "\n",
    "\n",
    "products - \n",
    "1)coke  - qty - price\n",
    "2)pepsi -  qty - price\n",
    "3)maza - qty - price\n",
    "4)sprite - qty - price\n",
    "5)7up - qty - price\n",
    "6)lays - qty - price\n",
    "7)doritos - qty - price\n",
    "\n",
    "payment type -  card/cash\n",
    "\n",
    "Billing - prduct qty * product cost = final amount \n",
    "\n",
    "after billing change in product qty.(reduction)\n",
    "\n",
    "Customer feed Back (in stars)\n",
    "\n",
    "\n"
   ]
  },
  {
   "cell_type": "code",
   "execution_count": 1,
   "id": "e928b3de-62e4-4e30-845d-c10e505cccc2",
   "metadata": {},
   "outputs": [
    {
     "name": "stdin",
     "output_type": "stream",
     "text": [
      "type 1 for customer, or type 2 for the owner 1\n"
     ]
    },
    {
     "name": "stdout",
     "output_type": "stream",
     "text": [
      "{1: ['coke', 30, 40], 2: ['pepsi', 30, 40], 3: ['maza', 40, 50], 4: ['sprite', 30, 30], 5: ['up', 30, 20], 6: ['Lays', 10, 10], 7: ['dorritos', 15, 20]}\n",
      "product list\n",
      "Num :product,Qty,cost\n",
      "1 : coke,30,40\n",
      "2 : pepsi,30,40\n",
      "3 : maza,40,50\n",
      "4 : sprite,30,30\n",
      "5 : up,30,20\n",
      "6 : Lays,10,10\n",
      "7 : dorritos,15,20\n"
     ]
    },
    {
     "name": "stdin",
     "output_type": "stream",
     "text": [
      "Enter the product Numb :  1\n",
      "Enter the quantity :  20\n"
     ]
    },
    {
     "name": "stdout",
     "output_type": "stream",
     "text": [
      "Your Bill :  800\n"
     ]
    },
    {
     "name": "stdin",
     "output_type": "stream",
     "text": [
      "payment method type 1 for cash type 2 for card 1\n"
     ]
    },
    {
     "name": "stdout",
     "output_type": "stream",
     "text": [
      "thank you for cash payment - collect your recipt\n"
     ]
    },
    {
     "name": "stdin",
     "output_type": "stream",
     "text": [
      "kindly give feedback 1 to 5 5\n"
     ]
    },
    {
     "name": "stdout",
     "output_type": "stream",
     "text": [
      "5\n"
     ]
    },
    {
     "name": "stdin",
     "output_type": "stream",
     "text": [
      "DO you wish to continue ?  no\n"
     ]
    }
   ],
   "source": [
    "product_dictionary ={\n",
    "                     1:[\"coke\",30,40],\n",
    "                     2:[\"pepsi\",30,40], \n",
    "                     3:[\"maza\",40,50],\n",
    "                     4:[\"sprite\",30,30], \n",
    "                     5:[\"up\",30, 20],\n",
    "                     6:[\"Lays\",10, 10],\n",
    "                     7:[\"dorritos\",15,20] \n",
    "                     }\n",
    "\n",
    "data_base2 = {1234 : [1]}  #id pass\n",
    "\n",
    "\n",
    "\n",
    "option1 = int(input(\"type 1 for customer, or type 2 for the owner\"))\n",
    "        \n",
    "if option1 == 1 :\n",
    "    print(product_dictionary)\n",
    "elif option1 == 2:\n",
    "    user = int(input(\"Enter id : \"))\n",
    "    password = int(input(\"Enter pass : \"))\n",
    "\n",
    "    if user in data_base2.keys():  #user = 1234. database[1234]\n",
    "        if data_base2[user][0] == password:\n",
    "            print(\"Valid User\")\n",
    "        else:\n",
    "            print(\"Wrong Password\")\n",
    "            pass;\n",
    "    else:\n",
    "        print(\"User is not in Database\")\n",
    "        pass;\n",
    "\n",
    "i = 0\n",
    "\n",
    "while True :\n",
    "    print(\"product list\")\n",
    "    print(\"Num :product,Qty,cost\")\n",
    "\n",
    "    for x,y in product_dictionary.items():\n",
    "        print(f\"{x} : {y[0]},{y[1]},{y[2]}\")\n",
    "\n",
    "    product = int(input(\"Enter the product Numb : \"))\n",
    "    quantity = int(input(\"Enter the quantity : \"))\n",
    "\n",
    "    i = i + (product_dictionary[product][2] * quantity)\n",
    "\n",
    "    print(\"Your Bill : \",i)\n",
    "\n",
    "    final = int(input(\"payment method type 1 for cash type 2 for card\"))\n",
    "    if final == 1:\n",
    "        print(\"thank you for cash payment - collect your recipt\")\n",
    "        pass;\n",
    "    elif final == 2:\n",
    "        print(\"thank you for card payment - collect your recipt\")\n",
    "    else :\n",
    "        pass\n",
    "\n",
    "    option5 = int(input(\"kindly give feedback 1 to 5\"))\n",
    "\n",
    "    print(option5)\n",
    "\n",
    "    option = input(\"DO you wish to continue ? \")\n",
    "    if option == \"yes\":\n",
    "        continue;\n",
    "    elif option == \"no\":\n",
    "        break;\n",
    "    else:\n",
    "        print(\"Please type either 'yes' or 'no'\")"
   ]
  },
  {
   "cell_type": "code",
   "execution_count": 5,
   "id": "9525b560-0d10-4389-8ad1-504559ec7582",
   "metadata": {},
   "outputs": [
    {
     "data": {
      "text/plain": [
       "['coke', 30, 40]"
      ]
     },
     "execution_count": 5,
     "metadata": {},
     "output_type": "execute_result"
    }
   ],
   "source": [
    "product_dictionary[1]"
   ]
  },
  {
   "cell_type": "code",
   "execution_count": 26,
   "id": "816e6318-8790-4638-9efd-5dc999f9ab5d",
   "metadata": {},
   "outputs": [
    {
     "name": "stdout",
     "output_type": "stream",
     "text": [
      "no qty\n"
     ]
    }
   ],
   "source": [
    "if product in product_dictionary.keys() :\n",
    "        if quantity > y[1] :\n",
    "            print(\"Value error\")\n",
    "        elif  quantity <= y[1]:\n",
    "            print(\"no qty\")\n",
    "            pass\n",
    "        else :\n",
    "            pass"
   ]
  },
  {
   "cell_type": "markdown",
   "id": "52ec0561-93b6-49c7-962c-78323c103fec",
   "metadata": {},
   "source": [
    "data_base2 = {1234 : [1,2000]}\n",
    "\n",
    "option1 = int(input(\"type 1 for customer, or type 2 for the owner\"))\n",
    "        \n",
    "if option1 == 1 :\n",
    "    print(d)\n",
    "elif option1 == 2:\n",
    "    user = int(input(\"Enter id : \"))\n",
    "    password = int(input(\"Enter pass : \"))\n",
    "\n",
    "    if user in data_base2.keys():  #user = 1234. database[1234]\n",
    "        if data_base2[user][0] == password:\n",
    "            print(\"Valid User\")\n",
    "        else:\n",
    "            print(\"Wrong Password\")\n",
    "            pass\n",
    "    else:\n",
    "        print(\"User is not in Database\")\n",
    "        pass\n",
    "    "
   ]
  },
  {
   "cell_type": "markdown",
   "id": "b38fb613-4964-45ac-8e34-33a75a66c06d",
   "metadata": {},
   "source": [
    "final = int(input(\"payment method type 1 for cash type 2 for card\"))\n",
    "\n",
    "\n",
    "\n",
    "if final == 1:\n",
    "    print(\"thank you for cash payment - collect your recipt\")\n",
    "    pass;\n",
    "elif final == 2:\n",
    "    print(\"thank you for card payment - collect your recipt\")\n",
    "else :\n",
    "    pass\n",
    "        "
   ]
  },
  {
   "cell_type": "markdown",
   "id": "30f32325-8e7f-4265-b47a-932244089558",
   "metadata": {},
   "source": [
    "option5 = int(input(\"kindly give feedback 1 to 5\"))\n",
    "\n",
    "print(option5)"
   ]
  },
  {
   "cell_type": "code",
   "execution_count": null,
   "id": "eae2a150-1d71-45b5-bf28-427bbb7af47b",
   "metadata": {},
   "outputs": [],
   "source": []
  }
 ],
 "metadata": {
  "kernelspec": {
   "display_name": "Python 3 (ipykernel)",
   "language": "python",
   "name": "python3"
  },
  "language_info": {
   "codemirror_mode": {
    "name": "ipython",
    "version": 3
   },
   "file_extension": ".py",
   "mimetype": "text/x-python",
   "name": "python",
   "nbconvert_exporter": "python",
   "pygments_lexer": "ipython3",
   "version": "3.11.7"
  }
 },
 "nbformat": 4,
 "nbformat_minor": 5
}
